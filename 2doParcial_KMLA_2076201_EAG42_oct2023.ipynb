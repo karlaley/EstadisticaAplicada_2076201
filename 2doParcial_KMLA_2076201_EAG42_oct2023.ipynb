{
 "cells": [
  {
   "cell_type": "markdown",
   "metadata": {},
   "source": [
    "## Estadística Aplicada\n",
    "\n",
    "Segundo examen parcial\n",
    "\n",
    "Karla Mariana Ley Acero 2076201\n",
    "\n",
    "Grupo 42"
   ]
  },
  {
   "cell_type": "code",
   "execution_count": 98,
   "metadata": {},
   "outputs": [],
   "source": [
    "#Librerías básicas\n",
    "\n",
    "import pandas as pd\n",
    "import numpy as np \n",
    "import matplotlib.pyplot as plt \n",
    "%matplotlib inline "
   ]
  },
  {
   "cell_type": "code",
   "execution_count": 99,
   "metadata": {},
   "outputs": [],
   "source": [
    "prestamos_creditos = pd.read_csv('https://raw.githubusercontent.com/jimmyzac/Estadistica-Aplicada-FCFM-UANL/main/bases_datos/credit_risk.csv')"
   ]
  },
  {
   "cell_type": "code",
   "execution_count": 100,
   "metadata": {},
   "outputs": [
    {
     "data": {
      "text/html": [
       "<div>\n",
       "<style scoped>\n",
       "    .dataframe tbody tr th:only-of-type {\n",
       "        vertical-align: middle;\n",
       "    }\n",
       "\n",
       "    .dataframe tbody tr th {\n",
       "        vertical-align: top;\n",
       "    }\n",
       "\n",
       "    .dataframe thead th {\n",
       "        text-align: right;\n",
       "    }\n",
       "</style>\n",
       "<table border=\"1\" class=\"dataframe\">\n",
       "  <thead>\n",
       "    <tr style=\"text-align: right;\">\n",
       "      <th></th>\n",
       "      <th>saldo_cuenta</th>\n",
       "      <th>meses</th>\n",
       "      <th>historia_crediticia</th>\n",
       "      <th>uso</th>\n",
       "      <th>cantidad</th>\n",
       "      <th>saldo_cuenta_ahorro</th>\n",
       "      <th>años_trabajando</th>\n",
       "      <th>tasa_de_interes</th>\n",
       "      <th>genero_estado_civil</th>\n",
       "      <th>aval</th>\n",
       "      <th>...</th>\n",
       "      <th>activos</th>\n",
       "      <th>edad</th>\n",
       "      <th>planes_de_pago</th>\n",
       "      <th>casa</th>\n",
       "      <th>numero_creditos</th>\n",
       "      <th>situacion_laboral</th>\n",
       "      <th>dependientes_economicos</th>\n",
       "      <th>telefono</th>\n",
       "      <th>extranjero</th>\n",
       "      <th>credito_pagado</th>\n",
       "    </tr>\n",
       "  </thead>\n",
       "  <tbody>\n",
       "    <tr>\n",
       "      <th>0</th>\n",
       "      <td>menor_a_cero</td>\n",
       "      <td>6</td>\n",
       "      <td>no_ha_pagado</td>\n",
       "      <td>TV</td>\n",
       "      <td>1169</td>\n",
       "      <td>NaN</td>\n",
       "      <td>mas_de_7</td>\n",
       "      <td>4</td>\n",
       "      <td>hombre_soltero</td>\n",
       "      <td>NaN</td>\n",
       "      <td>...</td>\n",
       "      <td>bienes_raices</td>\n",
       "      <td>67</td>\n",
       "      <td>NaN</td>\n",
       "      <td>propia</td>\n",
       "      <td>2</td>\n",
       "      <td>gobierno</td>\n",
       "      <td>1</td>\n",
       "      <td>1</td>\n",
       "      <td>1</td>\n",
       "      <td>1</td>\n",
       "    </tr>\n",
       "    <tr>\n",
       "      <th>1</th>\n",
       "      <td>cero_a_200</td>\n",
       "      <td>48</td>\n",
       "      <td>pago_algun_credito</td>\n",
       "      <td>TV</td>\n",
       "      <td>5951</td>\n",
       "      <td>menor_100</td>\n",
       "      <td>1_a_4</td>\n",
       "      <td>2</td>\n",
       "      <td>mujer_no_soltera</td>\n",
       "      <td>NaN</td>\n",
       "      <td>...</td>\n",
       "      <td>bienes_raices</td>\n",
       "      <td>22</td>\n",
       "      <td>NaN</td>\n",
       "      <td>propia</td>\n",
       "      <td>1</td>\n",
       "      <td>gobierno</td>\n",
       "      <td>1</td>\n",
       "      <td>0</td>\n",
       "      <td>1</td>\n",
       "      <td>0</td>\n",
       "    </tr>\n",
       "    <tr>\n",
       "      <th>2</th>\n",
       "      <td>sin_cuenta</td>\n",
       "      <td>12</td>\n",
       "      <td>no_ha_pagado</td>\n",
       "      <td>colegiaturas</td>\n",
       "      <td>2096</td>\n",
       "      <td>menor_100</td>\n",
       "      <td>4_a_7</td>\n",
       "      <td>2</td>\n",
       "      <td>hombre_soltero</td>\n",
       "      <td>NaN</td>\n",
       "      <td>...</td>\n",
       "      <td>bienes_raices</td>\n",
       "      <td>49</td>\n",
       "      <td>NaN</td>\n",
       "      <td>propia</td>\n",
       "      <td>1</td>\n",
       "      <td>obrero</td>\n",
       "      <td>2</td>\n",
       "      <td>0</td>\n",
       "      <td>1</td>\n",
       "      <td>1</td>\n",
       "    </tr>\n",
       "    <tr>\n",
       "      <th>3</th>\n",
       "      <td>menor_a_cero</td>\n",
       "      <td>42</td>\n",
       "      <td>pago_algun_credito</td>\n",
       "      <td>mobiliario</td>\n",
       "      <td>7882</td>\n",
       "      <td>menor_100</td>\n",
       "      <td>4_a_7</td>\n",
       "      <td>2</td>\n",
       "      <td>hombre_soltero</td>\n",
       "      <td>aval</td>\n",
       "      <td>...</td>\n",
       "      <td>seguro_vida</td>\n",
       "      <td>45</td>\n",
       "      <td>NaN</td>\n",
       "      <td>prestada</td>\n",
       "      <td>1</td>\n",
       "      <td>gobierno</td>\n",
       "      <td>2</td>\n",
       "      <td>0</td>\n",
       "      <td>1</td>\n",
       "      <td>1</td>\n",
       "    </tr>\n",
       "    <tr>\n",
       "      <th>4</th>\n",
       "      <td>menor_a_cero</td>\n",
       "      <td>24</td>\n",
       "      <td>pago_retrasado</td>\n",
       "      <td>coche_nuevo</td>\n",
       "      <td>4870</td>\n",
       "      <td>menor_100</td>\n",
       "      <td>1_a_4</td>\n",
       "      <td>3</td>\n",
       "      <td>hombre_soltero</td>\n",
       "      <td>NaN</td>\n",
       "      <td>...</td>\n",
       "      <td>sin_activos</td>\n",
       "      <td>53</td>\n",
       "      <td>NaN</td>\n",
       "      <td>prestada</td>\n",
       "      <td>2</td>\n",
       "      <td>gobierno</td>\n",
       "      <td>2</td>\n",
       "      <td>0</td>\n",
       "      <td>1</td>\n",
       "      <td>0</td>\n",
       "    </tr>\n",
       "  </tbody>\n",
       "</table>\n",
       "<p>5 rows × 21 columns</p>\n",
       "</div>"
      ],
      "text/plain": [
       "   saldo_cuenta  meses historia_crediticia           uso  cantidad  \\\n",
       "0  menor_a_cero      6        no_ha_pagado            TV      1169   \n",
       "1    cero_a_200     48  pago_algun_credito            TV      5951   \n",
       "2    sin_cuenta     12        no_ha_pagado  colegiaturas      2096   \n",
       "3  menor_a_cero     42  pago_algun_credito    mobiliario      7882   \n",
       "4  menor_a_cero     24      pago_retrasado   coche_nuevo      4870   \n",
       "\n",
       "  saldo_cuenta_ahorro años_trabajando  tasa_de_interes genero_estado_civil  \\\n",
       "0                 NaN        mas_de_7                4      hombre_soltero   \n",
       "1           menor_100           1_a_4                2    mujer_no_soltera   \n",
       "2           menor_100           4_a_7                2      hombre_soltero   \n",
       "3           menor_100           4_a_7                2      hombre_soltero   \n",
       "4           menor_100           1_a_4                3      hombre_soltero   \n",
       "\n",
       "   aval  ...        activos edad  planes_de_pago      casa numero_creditos  \\\n",
       "0   NaN  ...  bienes_raices   67             NaN    propia               2   \n",
       "1   NaN  ...  bienes_raices   22             NaN    propia               1   \n",
       "2   NaN  ...  bienes_raices   49             NaN    propia               1   \n",
       "3  aval  ...    seguro_vida   45             NaN  prestada               1   \n",
       "4   NaN  ...    sin_activos   53             NaN  prestada               2   \n",
       "\n",
       "   situacion_laboral dependientes_economicos  telefono  extranjero  \\\n",
       "0           gobierno                       1         1           1   \n",
       "1           gobierno                       1         0           1   \n",
       "2             obrero                       2         0           1   \n",
       "3           gobierno                       2         0           1   \n",
       "4           gobierno                       2         0           1   \n",
       "\n",
       "   credito_pagado  \n",
       "0               1  \n",
       "1               0  \n",
       "2               1  \n",
       "3               1  \n",
       "4               0  \n",
       "\n",
       "[5 rows x 21 columns]"
      ]
     },
     "execution_count": 100,
     "metadata": {},
     "output_type": "execute_result"
    }
   ],
   "source": [
    "prestamos_creditos.head()"
   ]
  },
  {
   "cell_type": "markdown",
   "metadata": {},
   "source": [
    "La base de datos proporcionada contiene información relevante sobre cada préstamo. \n",
    "\n",
    "La variable **\"crédito_pagado\"** toma el valor de 1 si el cliente ha pagado completamente \n",
    "el préstamo y 0 si no lo ha hecho o aún no ha terminado de pagar. \n",
    "\n",
    "Además, se dispone de información sobre el tiempo en meses que lleva pagar completamente el préstamo, \n",
    "registrado en la variable \"meses\", y el monto del préstamo otorgado en euros, \n",
    "registrado en la variable \"cantidad\"."
   ]
  },
  {
   "cell_type": "markdown",
   "metadata": {},
   "source": [
    "### **1. Análisis exploratorio**\n",
    "\n",
    "\n",
    "a) Cuantas variables y cuantas observaciones tienen la base"
   ]
  },
  {
   "cell_type": "code",
   "execution_count": 101,
   "metadata": {},
   "outputs": [
    {
     "name": "stdout",
     "output_type": "stream",
     "text": [
      "<class 'pandas.core.frame.DataFrame'>\n",
      "RangeIndex: 1000 entries, 0 to 999\n",
      "Data columns (total 21 columns):\n",
      " #   Column                   Non-Null Count  Dtype \n",
      "---  ------                   --------------  ----- \n",
      " 0   saldo_cuenta             1000 non-null   object\n",
      " 1   meses                    1000 non-null   int64 \n",
      " 2   historia_crediticia      1000 non-null   object\n",
      " 3   uso                      1000 non-null   object\n",
      " 4   cantidad                 1000 non-null   int64 \n",
      " 5   saldo_cuenta_ahorro      817 non-null    object\n",
      " 6   años_trabajando          1000 non-null   object\n",
      " 7   tasa_de_interes          1000 non-null   int64 \n",
      " 8   genero_estado_civil      1000 non-null   object\n",
      " 9   aval                     52 non-null     object\n",
      " 10  años_actual_domicilio    1000 non-null   int64 \n",
      " 11  activos                  1000 non-null   object\n",
      " 12  edad                     1000 non-null   int64 \n",
      " 13  planes_de_pago           186 non-null    object\n",
      " 14  casa                     1000 non-null   object\n",
      " 15  numero_creditos          1000 non-null   int64 \n",
      " 16  situacion_laboral        1000 non-null   object\n",
      " 17  dependientes_economicos  1000 non-null   int64 \n",
      " 18  telefono                 1000 non-null   int64 \n",
      " 19  extranjero               1000 non-null   int64 \n",
      " 20  credito_pagado           1000 non-null   int64 \n",
      "dtypes: int64(10), object(11)\n",
      "memory usage: 164.2+ KB\n"
     ]
    }
   ],
   "source": [
    "prestamos_creditos.info()"
   ]
  },
  {
   "cell_type": "markdown",
   "metadata": {},
   "source": [
    " La base de datos proporcionada tiene 21 variables y 1000 observaciones (entradas)"
   ]
  },
  {
   "cell_type": "markdown",
   "metadata": {},
   "source": [
    "b) Cuál es el monto promedio de los créditos otorgados por el banco"
   ]
  },
  {
   "cell_type": "code",
   "execution_count": 102,
   "metadata": {},
   "outputs": [
    {
     "data": {
      "text/plain": [
       "3271.26"
      ]
     },
     "execution_count": 102,
     "metadata": {},
     "output_type": "execute_result"
    }
   ],
   "source": [
    "prestamos_creditos['cantidad'].mean().round(2)"
   ]
  },
  {
   "cell_type": "markdown",
   "metadata": {},
   "source": [
    "c) Cuál es el tiempo promedio que se tardaron en pagar el préstamo los \n",
    "que pagaron el préstamo en su totalidad"
   ]
  },
  {
   "cell_type": "code",
   "execution_count": 103,
   "metadata": {},
   "outputs": [
    {
     "data": {
      "text/plain": [
       "19.21"
      ]
     },
     "execution_count": 103,
     "metadata": {},
     "output_type": "execute_result"
    }
   ],
   "source": [
    "tiempo_pago = prestamos_creditos.query('credito_pagado == 1')\n",
    "tiempo_pago['meses'].mean().round(2)\n"
   ]
  },
  {
   "cell_type": "markdown",
   "metadata": {},
   "source": [
    "El tiempo promedio que se tardaron en pagar el préstamo los que pagaron el préstamo en su totalidad fue de 19.21 meses"
   ]
  },
  {
   "cell_type": "markdown",
   "metadata": {},
   "source": [
    "d) Cuál es la tasa de interés promedio otorgada por el banco"
   ]
  },
  {
   "cell_type": "code",
   "execution_count": 104,
   "metadata": {},
   "outputs": [
    {
     "data": {
      "text/plain": [
       "2.97"
      ]
     },
     "execution_count": 104,
     "metadata": {},
     "output_type": "execute_result"
    }
   ],
   "source": [
    "prestamos_creditos['tasa_de_interes'].mean().round(2)"
   ]
  },
  {
   "cell_type": "markdown",
   "metadata": {},
   "source": [
    "La tasa de interés promedio otorgada por el banco es de 2.97"
   ]
  },
  {
   "cell_type": "markdown",
   "metadata": {},
   "source": [
    "e) Cuál es el monto promedio y la tasa de interés promedio de los que ya \n",
    "pagaron"
   ]
  },
  {
   "cell_type": "code",
   "execution_count": 105,
   "metadata": {},
   "outputs": [
    {
     "name": "stdout",
     "output_type": "stream",
     "text": [
      "La tasa de interés promedio de los que ya pagaron es de: 2985.46\n",
      "El monto promedio de los que ya pagaron es de: 2.92\n"
     ]
    }
   ],
   "source": [
    "cantidad_pagaron = tiempo_pago['cantidad'].mean().round(2)\n",
    "interes_pagaron= tiempo_pago['tasa_de_interes'].mean().round(2)\n",
    "\n",
    "print(f'La tasa de interés promedio de los que ya pagaron es de:', cantidad_pagaron)\n",
    "print(f'El monto promedio de los que ya pagaron es de:', interes_pagaron)"
   ]
  },
  {
   "cell_type": "markdown",
   "metadata": {},
   "source": [
    "f) Cuál es el monto promedio y la tasa de interés promedio de los que no \n",
    "han pagado"
   ]
  },
  {
   "cell_type": "code",
   "execution_count": 106,
   "metadata": {},
   "outputs": [
    {
     "name": "stdout",
     "output_type": "stream",
     "text": [
      "La tasa de interés promedio de los que ya pagaron es de: 3938.13\n",
      "El monto promedio de los que ya pagaron es de: 3.1\n"
     ]
    }
   ],
   "source": [
    "no_pago = prestamos_creditos.query('credito_pagado == 0')\n",
    "cantidad_no_pagaron = no_pago['cantidad'].mean().round(2)\n",
    "interes_no_pagaron= no_pago['tasa_de_interes'].mean().round(2)\n",
    "\n",
    "print(f'La tasa de interés promedio de los que ya pagaron es de:', cantidad_no_pagaron)\n",
    "print(f'El monto promedio de los que ya pagaron es de:', interes_no_pagaron)"
   ]
  },
  {
   "cell_type": "markdown",
   "metadata": {},
   "source": [
    "### **2. Estime un modelo de Kaplan-meier**\n"
   ]
  },
  {
   "cell_type": "code",
   "execution_count": 107,
   "metadata": {},
   "outputs": [],
   "source": [
    "## Librerias especializadas \n",
    "from lifelines import KaplanMeierFitter"
   ]
  },
  {
   "cell_type": "code",
   "execution_count": 108,
   "metadata": {},
   "outputs": [],
   "source": [
    "## Estimador de Kaplan-Meier de la funcion de supervivencia\n",
    "\n",
    "km1 = KaplanMeierFitter().fit(prestamos_creditos['meses'], prestamos_creditos['credito_pagado'])"
   ]
  },
  {
   "cell_type": "markdown",
   "metadata": {},
   "source": [
    "a) cuál es la mediana del tiempo y que significa"
   ]
  },
  {
   "cell_type": "code",
   "execution_count": 109,
   "metadata": {},
   "outputs": [
    {
     "data": {
      "text/plain": [
       "24.0"
      ]
     },
     "execution_count": 109,
     "metadata": {},
     "output_type": "execute_result"
    }
   ],
   "source": [
    "km1.median_survival_time_"
   ]
  },
  {
   "cell_type": "markdown",
   "metadata": {},
   "source": [
    "La mediana del tiempo de supervivencia es 24 semanas, lo que significa que la mitad de los préstamos fueron pagados en el mes 24 o que la mitad de los préstamos no han sido pagados aún en el mes 24 "
   ]
  },
  {
   "cell_type": "markdown",
   "metadata": {},
   "source": [
    "b) es mayor/menor que el tiempo promedio del inciso 1c"
   ]
  },
  {
   "cell_type": "markdown",
   "metadata": {},
   "source": [
    "Es mayor ya que 24 > 19.21"
   ]
  },
  {
   "cell_type": "markdown",
   "metadata": {},
   "source": [
    "### **3.Determine si el riesgo de que el préstamo se pague en su totalidad es constante, creciente, decreciente, o tipo log-normal respecto al tiempo**"
   ]
  },
  {
   "cell_type": "markdown",
   "metadata": {},
   "source": [
    "**Conocer el máximo y el mínimo para los límites de la gráfica**"
   ]
  },
  {
   "cell_type": "code",
   "execution_count": 110,
   "metadata": {},
   "outputs": [
    {
     "data": {
      "text/plain": [
       "4"
      ]
     },
     "execution_count": 110,
     "metadata": {},
     "output_type": "execute_result"
    }
   ],
   "source": [
    "prestamos_creditos['meses'].min()"
   ]
  },
  {
   "cell_type": "code",
   "execution_count": 111,
   "metadata": {},
   "outputs": [
    {
     "data": {
      "text/plain": [
       "72"
      ]
     },
     "execution_count": 111,
     "metadata": {},
     "output_type": "execute_result"
    }
   ],
   "source": [
    "prestamos_creditos['meses'].max()"
   ]
  },
  {
   "cell_type": "code",
   "execution_count": 112,
   "metadata": {},
   "outputs": [],
   "source": [
    "from lifelines import ExponentialFitter\n",
    "from lifelines import WeibullFitter\n",
    "from lifelines import LogNormalFitter"
   ]
  },
  {
   "cell_type": "code",
   "execution_count": 113,
   "metadata": {},
   "outputs": [],
   "source": [
    "#Sacar los modelos Exponencial, Weibull y LogNormal\n",
    "\n",
    "exponen = ExponentialFitter().fit(prestamos_creditos ['meses'], prestamos_creditos['credito_pagado'])\n",
    "mweibull = WeibullFitter().fit(prestamos_creditos ['meses'], prestamos_creditos['credito_pagado'])\n",
    "mlogn = LogNormalFitter().fit(prestamos_creditos ['meses'], prestamos_creditos['credito_pagado'])"
   ]
  },
  {
   "cell_type": "code",
   "execution_count": 114,
   "metadata": {},
   "outputs": [
    {
     "name": "stdout",
     "output_type": "stream",
     "text": [
      "Exponencial: 6157.19 \n",
      "Weibull: 5900.98 \n",
      "LogNormal: 5813.75\n"
     ]
    }
   ],
   "source": [
    "## Usaremos el critero de Akai para conocer el \"mejor\" modelo, el cual es el que tiene menor valor de AIC\n",
    "\n",
    "print('Exponencial:', exponen.AIC_.round(2), '\\nWeibull:', mweibull.AIC_.round(2), '\\nLogNormal:', mlogn.AIC_.round(2))"
   ]
  },
  {
   "cell_type": "markdown",
   "metadata": {},
   "source": [
    "De acuerdo con el AIC el mejor modelo es el LogNormal, sacaremos las gráficas para determinar si es constante, creciente o decreciente"
   ]
  },
  {
   "cell_type": "code",
   "execution_count": 115,
   "metadata": {},
   "outputs": [
    {
     "data": {
      "image/png": "[encoded data removed]",
      "text/plain": [
       "<Figure size 640x480 with 1 Axes>"
      ]
     },
     "metadata": {},
     "output_type": "display_data"
    }
   ],
   "source": [
    "#Función de riesgo de la LogNormal\n",
    "mlogn.plot_hazard()\n",
    "plt.title('Función de riesgo de LogNormal $h(t)$')\n",
    "plt.xlim(4,72);\n",
    "\n",
    "## Va creciendo rapido y después decrece de manera más lenta"
   ]
  },
  {
   "cell_type": "markdown",
   "metadata": {},
   "source": [
    "El riesgo de que el préstamo se pague en su totalidad es log-normal respecto al tiempo que se brinda. Se puede ver como crece hasta cierto punto de manera rápida y después empieza a decrecer paulatinamente"
   ]
  },
  {
   "cell_type": "markdown",
   "metadata": {},
   "source": [
    "### **4. Estimar un modelo de Cox para ver qué factores influyen sobre el riesgo de que el préstamo se pague en su totalidad**"
   ]
  },
  {
   "cell_type": "code",
   "execution_count": 116,
   "metadata": {},
   "outputs": [],
   "source": [
    "from lifelines import CoxPHFitter\n",
    "import seaborn as sns"
   ]
  },
  {
   "cell_type": "code",
   "execution_count": 117,
   "metadata": {},
   "outputs": [
    {
     "data": {
      "text/html": [
       "<div>\n",
       "<style scoped>\n",
       "    .dataframe tbody tr th:only-of-type {\n",
       "        vertical-align: middle;\n",
       "    }\n",
       "\n",
       "    .dataframe tbody tr th {\n",
       "        vertical-align: top;\n",
       "    }\n",
       "\n",
       "    .dataframe thead th {\n",
       "        text-align: right;\n",
       "    }\n",
       "</style>\n",
       "<table border=\"1\" class=\"dataframe\">\n",
       "  <thead>\n",
       "    <tr style=\"text-align: right;\">\n",
       "      <th></th>\n",
       "      <th>saldo_cuenta</th>\n",
       "      <th>meses</th>\n",
       "      <th>historia_crediticia</th>\n",
       "      <th>uso</th>\n",
       "      <th>cantidad</th>\n",
       "      <th>saldo_cuenta_ahorro</th>\n",
       "      <th>años_trabajando</th>\n",
       "      <th>tasa_de_interes</th>\n",
       "      <th>genero_estado_civil</th>\n",
       "      <th>aval</th>\n",
       "      <th>...</th>\n",
       "      <th>activos</th>\n",
       "      <th>edad</th>\n",
       "      <th>planes_de_pago</th>\n",
       "      <th>casa</th>\n",
       "      <th>numero_creditos</th>\n",
       "      <th>situacion_laboral</th>\n",
       "      <th>dependientes_economicos</th>\n",
       "      <th>telefono</th>\n",
       "      <th>extranjero</th>\n",
       "      <th>credito_pagado</th>\n",
       "    </tr>\n",
       "  </thead>\n",
       "  <tbody>\n",
       "    <tr>\n",
       "      <th>0</th>\n",
       "      <td>menor_a_cero</td>\n",
       "      <td>6</td>\n",
       "      <td>no_ha_pagado</td>\n",
       "      <td>TV</td>\n",
       "      <td>1169</td>\n",
       "      <td>NaN</td>\n",
       "      <td>mas_de_7</td>\n",
       "      <td>4</td>\n",
       "      <td>hombre_soltero</td>\n",
       "      <td>NaN</td>\n",
       "      <td>...</td>\n",
       "      <td>bienes_raices</td>\n",
       "      <td>67</td>\n",
       "      <td>NaN</td>\n",
       "      <td>propia</td>\n",
       "      <td>2</td>\n",
       "      <td>gobierno</td>\n",
       "      <td>1</td>\n",
       "      <td>1</td>\n",
       "      <td>1</td>\n",
       "      <td>1</td>\n",
       "    </tr>\n",
       "    <tr>\n",
       "      <th>1</th>\n",
       "      <td>cero_a_200</td>\n",
       "      <td>48</td>\n",
       "      <td>pago_algun_credito</td>\n",
       "      <td>TV</td>\n",
       "      <td>5951</td>\n",
       "      <td>menor_100</td>\n",
       "      <td>1_a_4</td>\n",
       "      <td>2</td>\n",
       "      <td>mujer_no_soltera</td>\n",
       "      <td>NaN</td>\n",
       "      <td>...</td>\n",
       "      <td>bienes_raices</td>\n",
       "      <td>22</td>\n",
       "      <td>NaN</td>\n",
       "      <td>propia</td>\n",
       "      <td>1</td>\n",
       "      <td>gobierno</td>\n",
       "      <td>1</td>\n",
       "      <td>0</td>\n",
       "      <td>1</td>\n",
       "      <td>0</td>\n",
       "    </tr>\n",
       "    <tr>\n",
       "      <th>2</th>\n",
       "      <td>sin_cuenta</td>\n",
       "      <td>12</td>\n",
       "      <td>no_ha_pagado</td>\n",
       "      <td>colegiaturas</td>\n",
       "      <td>2096</td>\n",
       "      <td>menor_100</td>\n",
       "      <td>4_a_7</td>\n",
       "      <td>2</td>\n",
       "      <td>hombre_soltero</td>\n",
       "      <td>NaN</td>\n",
       "      <td>...</td>\n",
       "      <td>bienes_raices</td>\n",
       "      <td>49</td>\n",
       "      <td>NaN</td>\n",
       "      <td>propia</td>\n",
       "      <td>1</td>\n",
       "      <td>obrero</td>\n",
       "      <td>2</td>\n",
       "      <td>0</td>\n",
       "      <td>1</td>\n",
       "      <td>1</td>\n",
       "    </tr>\n",
       "    <tr>\n",
       "      <th>3</th>\n",
       "      <td>menor_a_cero</td>\n",
       "      <td>42</td>\n",
       "      <td>pago_algun_credito</td>\n",
       "      <td>mobiliario</td>\n",
       "      <td>7882</td>\n",
       "      <td>menor_100</td>\n",
       "      <td>4_a_7</td>\n",
       "      <td>2</td>\n",
       "      <td>hombre_soltero</td>\n",
       "      <td>aval</td>\n",
       "      <td>...</td>\n",
       "      <td>seguro_vida</td>\n",
       "      <td>45</td>\n",
       "      <td>NaN</td>\n",
       "      <td>prestada</td>\n",
       "      <td>1</td>\n",
       "      <td>gobierno</td>\n",
       "      <td>2</td>\n",
       "      <td>0</td>\n",
       "      <td>1</td>\n",
       "      <td>1</td>\n",
       "    </tr>\n",
       "    <tr>\n",
       "      <th>4</th>\n",
       "      <td>menor_a_cero</td>\n",
       "      <td>24</td>\n",
       "      <td>pago_retrasado</td>\n",
       "      <td>coche_nuevo</td>\n",
       "      <td>4870</td>\n",
       "      <td>menor_100</td>\n",
       "      <td>1_a_4</td>\n",
       "      <td>3</td>\n",
       "      <td>hombre_soltero</td>\n",
       "      <td>NaN</td>\n",
       "      <td>...</td>\n",
       "      <td>sin_activos</td>\n",
       "      <td>53</td>\n",
       "      <td>NaN</td>\n",
       "      <td>prestada</td>\n",
       "      <td>2</td>\n",
       "      <td>gobierno</td>\n",
       "      <td>2</td>\n",
       "      <td>0</td>\n",
       "      <td>1</td>\n",
       "      <td>0</td>\n",
       "    </tr>\n",
       "  </tbody>\n",
       "</table>\n",
       "<p>5 rows × 21 columns</p>\n",
       "</div>"
      ],
      "text/plain": [
       "   saldo_cuenta  meses historia_crediticia           uso  cantidad  \\\n",
       "0  menor_a_cero      6        no_ha_pagado            TV      1169   \n",
       "1    cero_a_200     48  pago_algun_credito            TV      5951   \n",
       "2    sin_cuenta     12        no_ha_pagado  colegiaturas      2096   \n",
       "3  menor_a_cero     42  pago_algun_credito    mobiliario      7882   \n",
       "4  menor_a_cero     24      pago_retrasado   coche_nuevo      4870   \n",
       "\n",
       "  saldo_cuenta_ahorro años_trabajando  tasa_de_interes genero_estado_civil  \\\n",
       "0                 NaN        mas_de_7                4      hombre_soltero   \n",
       "1           menor_100           1_a_4                2    mujer_no_soltera   \n",
       "2           menor_100           4_a_7                2      hombre_soltero   \n",
       "3           menor_100           4_a_7                2      hombre_soltero   \n",
       "4           menor_100           1_a_4                3      hombre_soltero   \n",
       "\n",
       "   aval  ...        activos edad  planes_de_pago      casa numero_creditos  \\\n",
       "0   NaN  ...  bienes_raices   67             NaN    propia               2   \n",
       "1   NaN  ...  bienes_raices   22             NaN    propia               1   \n",
       "2   NaN  ...  bienes_raices   49             NaN    propia               1   \n",
       "3  aval  ...    seguro_vida   45             NaN  prestada               1   \n",
       "4   NaN  ...    sin_activos   53             NaN  prestada               2   \n",
       "\n",
       "   situacion_laboral dependientes_economicos  telefono  extranjero  \\\n",
       "0           gobierno                       1         1           1   \n",
       "1           gobierno                       1         0           1   \n",
       "2             obrero                       2         0           1   \n",
       "3           gobierno                       2         0           1   \n",
       "4           gobierno                       2         0           1   \n",
       "\n",
       "   credito_pagado  \n",
       "0               1  \n",
       "1               0  \n",
       "2               1  \n",
       "3               1  \n",
       "4               0  \n",
       "\n",
       "[5 rows x 21 columns]"
      ]
     },
     "execution_count": 117,
     "metadata": {},
     "output_type": "execute_result"
    }
   ],
   "source": [
    "#Volvamos a ver que variables hay\n",
    "prestamos_creditos.head()"
   ]
  },
  {
   "cell_type": "markdown",
   "metadata": {},
   "source": [
    "a) A parte de “tasa de interes” y “cantidad”, elige otras cuatro variables que \n",
    "creas que afectan el riesgo del evento"
   ]
  },
  {
   "cell_type": "markdown",
   "metadata": {},
   "source": [
    "Las variables escogidas son:\n",
    "\n",
    "***Situación laboral***\n",
    "\n",
    "Se escogió esta variable debido a que la situación laboral de una persona esta directamente relacionado con el ingreso que reciba esta persona con su salario, por lo que puede afectar significativamente el riesgo de que una persona pague el préstamo en su totalidad\n",
    "\n",
    "***Edad***\n",
    "\n",
    "Se escogió esta variable debido a que se considera que las personas jovenes, de un rango de 18-25 a penas estan encontrando una estabilidad económica y laboral además de que a penas se estan ajustando a las nuevas responsabilidades de un mundo adulto a comparación de señores de 40 años o más, claro que dependen otros factores que influencia si el riesgo de que una persona pague el préstamo aumente o disminuya pero la edad es un factor importante\n",
    "\n",
    "***numero_creditos***\n",
    "\n",
    "Se escogió esta variable porque una persona que tenga muchos créditos implica una responsabilidad mayor y si los creditos son de cantidades más grandes entonces puede que una persona no tenga la capacidad de pago suficiente por lo que influencia de manera significativa el riesgo de que una persona pague el préstamo en su totalidad\n",
    "\n",
    "\n",
    "***dependientes_economicos***\n",
    "\n",
    "Esta varible también esta directamente relacionada con la capacidad de pago de una persona porque tiene que dividir sus gastos dependienendo las personas que dependan de esta por lo que puede influenciar de manera significativa el riesgo de que una persona pague el préstamo en su totalidad "
   ]
  },
  {
   "cell_type": "code",
   "execution_count": 118,
   "metadata": {},
   "outputs": [],
   "source": [
    "# Hacer un nuevo dataframe con las variables que escogí\n",
    "\n",
    "prestamos_cox = prestamos_creditos[['meses', 'cantidad', 'tasa_de_interes', 'edad', 'numero_creditos', 'situacion_laboral', 'dependientes_economicos', 'credito_pagado']]"
   ]
  },
  {
   "cell_type": "code",
   "execution_count": 119,
   "metadata": {},
   "outputs": [
    {
     "data": {
      "text/html": [
       "<div>\n",
       "<style scoped>\n",
       "    .dataframe tbody tr th:only-of-type {\n",
       "        vertical-align: middle;\n",
       "    }\n",
       "\n",
       "    .dataframe tbody tr th {\n",
       "        vertical-align: top;\n",
       "    }\n",
       "\n",
       "    .dataframe thead th {\n",
       "        text-align: right;\n",
       "    }\n",
       "</style>\n",
       "<table border=\"1\" class=\"dataframe\">\n",
       "  <thead>\n",
       "    <tr style=\"text-align: right;\">\n",
       "      <th></th>\n",
       "      <th>meses</th>\n",
       "      <th>cantidad</th>\n",
       "      <th>tasa_de_interes</th>\n",
       "      <th>edad</th>\n",
       "      <th>numero_creditos</th>\n",
       "      <th>situacion_laboral</th>\n",
       "      <th>dependientes_economicos</th>\n",
       "      <th>credito_pagado</th>\n",
       "    </tr>\n",
       "  </thead>\n",
       "  <tbody>\n",
       "    <tr>\n",
       "      <th>0</th>\n",
       "      <td>6</td>\n",
       "      <td>1169</td>\n",
       "      <td>4</td>\n",
       "      <td>67</td>\n",
       "      <td>2</td>\n",
       "      <td>gobierno</td>\n",
       "      <td>1</td>\n",
       "      <td>1</td>\n",
       "    </tr>\n",
       "    <tr>\n",
       "      <th>1</th>\n",
       "      <td>48</td>\n",
       "      <td>5951</td>\n",
       "      <td>2</td>\n",
       "      <td>22</td>\n",
       "      <td>1</td>\n",
       "      <td>gobierno</td>\n",
       "      <td>1</td>\n",
       "      <td>0</td>\n",
       "    </tr>\n",
       "    <tr>\n",
       "      <th>2</th>\n",
       "      <td>12</td>\n",
       "      <td>2096</td>\n",
       "      <td>2</td>\n",
       "      <td>49</td>\n",
       "      <td>1</td>\n",
       "      <td>obrero</td>\n",
       "      <td>2</td>\n",
       "      <td>1</td>\n",
       "    </tr>\n",
       "    <tr>\n",
       "      <th>3</th>\n",
       "      <td>42</td>\n",
       "      <td>7882</td>\n",
       "      <td>2</td>\n",
       "      <td>45</td>\n",
       "      <td>1</td>\n",
       "      <td>gobierno</td>\n",
       "      <td>2</td>\n",
       "      <td>1</td>\n",
       "    </tr>\n",
       "    <tr>\n",
       "      <th>4</th>\n",
       "      <td>24</td>\n",
       "      <td>4870</td>\n",
       "      <td>3</td>\n",
       "      <td>53</td>\n",
       "      <td>2</td>\n",
       "      <td>gobierno</td>\n",
       "      <td>2</td>\n",
       "      <td>0</td>\n",
       "    </tr>\n",
       "  </tbody>\n",
       "</table>\n",
       "</div>"
      ],
      "text/plain": [
       "   meses  cantidad  tasa_de_interes  edad  numero_creditos situacion_laboral  \\\n",
       "0      6      1169                4    67                2          gobierno   \n",
       "1     48      5951                2    22                1          gobierno   \n",
       "2     12      2096                2    49                1            obrero   \n",
       "3     42      7882                2    45                1          gobierno   \n",
       "4     24      4870                3    53                2          gobierno   \n",
       "\n",
       "   dependientes_economicos  credito_pagado  \n",
       "0                        1               1  \n",
       "1                        1               0  \n",
       "2                        2               1  \n",
       "3                        2               1  \n",
       "4                        2               0  "
      ]
     },
     "execution_count": 119,
     "metadata": {},
     "output_type": "execute_result"
    }
   ],
   "source": [
    "prestamos_cox.head()"
   ]
  },
  {
   "cell_type": "markdown",
   "metadata": {},
   "source": [
    "b) Di si cada una de las 6 variables que elegiste, aumentan/disminuyen el \n",
    "riesgo del evento y por qué"
   ]
  },
  {
   "cell_type": "markdown",
   "metadata": {},
   "source": [
    "***situacion_laboral***\n",
    "\n",
    "La variable situación laboral puede ***aumentar*** o ***disminuir*** el riesgo de que una persona pague el préstamo en su totalidad debido a que influye directamente en su capacidad para generar ingresos y no todos los empleos generan lo mismo, es por eso que puede variar.\n",
    "\n",
    "***edad***\n",
    "\n",
    "La edad de una persona ***aumenta*** el riesgo de que una persona pague el préstamo en su totalidad debido a que entre más pase el tiempo se crea mayor estabilidad laboral, mayores ingresos y una historia crediticia más estable.\n",
    "\n",
    "***cantidad***\n",
    "\n",
    "La candidad otorgada del préstamo ***disminuye*** el riesgo de que una peprsona pague dicho préstamo en su totalidad, porque a medida a que esta cantidad es mayor los riesgos de que suceda algo en la vida de una persona y no pueda pagar la cantidad aaumenta. Por ejemplo, si una persona se queda sin empleo, es más factible que pueda pagar 2,000 de crédito a 15,000\n",
    "\n",
    "***tasa_de_interes***\n",
    "\n",
    "La variable de tasa de interés **aumenta** o **disminuye** el riesgo de que una persona pague el préstamo en su totalidad dependiendo la situación. Entre más alta sea la tasa la de interés los pagos mensuales correspondientes son más elevados por lo que el riego de pagar el préstamo por completo **disminuye** y **aumenta** si la tasa de interés es más baja \n",
    "\n",
    "***numero_creditos***\n",
    "\n",
    "Si la cantidad de creditos otorgados a una persona es alta el riesgo de que una persona pague el préstamo en su totalidad **disminuye** ya que se crea un efecto acumulativo y la capacidad de pago de la persona se ve limitada \n",
    "\n",
    "***dependientes_economicos***\n",
    "\n",
    "Entre más personas dependan económicamente de la persona encargada de pagar el crédito el riesgo de que esta pague en su totalidad dicho préstamo **disminuye** por la limitación en su capacidad de pago"
   ]
  },
  {
   "cell_type": "markdown",
   "metadata": {},
   "source": [
    "c) Realiza las transformaciones adecuadas para utilizar las variables en un modelo de cox"
   ]
  },
  {
   "cell_type": "code",
   "execution_count": 120,
   "metadata": {},
   "outputs": [
    {
     "data": {
      "text/plain": [
       "meses                      0\n",
       "cantidad                   0\n",
       "tasa_de_interes            0\n",
       "edad                       0\n",
       "numero_creditos            0\n",
       "situacion_laboral          0\n",
       "dependientes_economicos    0\n",
       "credito_pagado             0\n",
       "dtype: int64"
      ]
     },
     "execution_count": 120,
     "metadata": {},
     "output_type": "execute_result"
    }
   ],
   "source": [
    "## Para estimar el modelo depurar la base y hacer las estadísticas descriptivas\n",
    "\n",
    "## Identificar missing values\n",
    "prestamos_cox.isnull().sum()\n",
    "\n",
    "## No hay missing values"
   ]
  },
  {
   "cell_type": "code",
   "execution_count": 121,
   "metadata": {},
   "outputs": [
    {
     "data": {
      "text/plain": [
       "0"
      ]
     },
     "execution_count": 121,
     "metadata": {},
     "output_type": "execute_result"
    }
   ],
   "source": [
    "## Verificar que no hayan valores duplicados\n",
    "prestamos_cox.duplicated().sum()\n",
    "\n",
    "## No hay valores duplicados"
   ]
  },
  {
   "cell_type": "code",
   "execution_count": 122,
   "metadata": {},
   "outputs": [
    {
     "data": {
      "text/plain": [
       "meses                       int64\n",
       "cantidad                    int64\n",
       "tasa_de_interes             int64\n",
       "edad                        int64\n",
       "numero_creditos             int64\n",
       "situacion_laboral          object\n",
       "dependientes_economicos     int64\n",
       "credito_pagado              int64\n",
       "dtype: object"
      ]
     },
     "execution_count": 122,
     "metadata": {},
     "output_type": "execute_result"
    }
   ],
   "source": [
    "# Checar que tipo de variables son \n",
    "\n",
    "prestamos_cox.dtypes"
   ]
  },
  {
   "cell_type": "markdown",
   "metadata": {},
   "source": [
    "Situacion laboral es una variable categórica, hay que convertirla en dummy"
   ]
  },
  {
   "cell_type": "code",
   "execution_count": 123,
   "metadata": {},
   "outputs": [
    {
     "data": {
      "text/plain": [
       "situacion_laboral\n",
       "gobierno          630\n",
       "obrero            200\n",
       "administrativo    148\n",
       "desempleado        22\n",
       "Name: count, dtype: int64"
      ]
     },
     "execution_count": 123,
     "metadata": {},
     "output_type": "execute_result"
    }
   ],
   "source": [
    "# Checar cuales son los valores de las variables categóricas para seleccionar cual eliminar\n",
    "\n",
    "prestamos_cox['situacion_laboral'].value_counts()"
   ]
  },
  {
   "cell_type": "code",
   "execution_count": 124,
   "metadata": {},
   "outputs": [
    {
     "data": {
      "text/html": [
       "<div>\n",
       "<style scoped>\n",
       "    .dataframe tbody tr th:only-of-type {\n",
       "        vertical-align: middle;\n",
       "    }\n",
       "\n",
       "    .dataframe tbody tr th {\n",
       "        vertical-align: top;\n",
       "    }\n",
       "\n",
       "    .dataframe thead th {\n",
       "        text-align: right;\n",
       "    }\n",
       "</style>\n",
       "<table border=\"1\" class=\"dataframe\">\n",
       "  <thead>\n",
       "    <tr style=\"text-align: right;\">\n",
       "      <th></th>\n",
       "      <th>sl_desempleado</th>\n",
       "      <th>sl_gobierno</th>\n",
       "      <th>sl_obrero</th>\n",
       "    </tr>\n",
       "  </thead>\n",
       "  <tbody>\n",
       "    <tr>\n",
       "      <th>0</th>\n",
       "      <td>0</td>\n",
       "      <td>1</td>\n",
       "      <td>0</td>\n",
       "    </tr>\n",
       "    <tr>\n",
       "      <th>1</th>\n",
       "      <td>0</td>\n",
       "      <td>1</td>\n",
       "      <td>0</td>\n",
       "    </tr>\n",
       "    <tr>\n",
       "      <th>2</th>\n",
       "      <td>0</td>\n",
       "      <td>0</td>\n",
       "      <td>1</td>\n",
       "    </tr>\n",
       "    <tr>\n",
       "      <th>3</th>\n",
       "      <td>0</td>\n",
       "      <td>1</td>\n",
       "      <td>0</td>\n",
       "    </tr>\n",
       "    <tr>\n",
       "      <th>4</th>\n",
       "      <td>0</td>\n",
       "      <td>1</td>\n",
       "      <td>0</td>\n",
       "    </tr>\n",
       "  </tbody>\n",
       "</table>\n",
       "</div>"
      ],
      "text/plain": [
       "   sl_desempleado  sl_gobierno  sl_obrero\n",
       "0               0            1          0\n",
       "1               0            1          0\n",
       "2               0            0          1\n",
       "3               0            1          0\n",
       "4               0            1          0"
      ]
     },
     "execution_count": 124,
     "metadata": {},
     "output_type": "execute_result"
    }
   ],
   "source": [
    "# Convertir variable\n",
    "\n",
    "situacion_dummy = prestamos_cox['situacion_laboral']\n",
    "situacion_dummy = pd.get_dummies(situacion_dummy, prefix='sl', drop_first = True).astype(int)\n",
    "situacion_dummy.head()\n",
    "\n",
    "# La variable con la que compararemos será administrativo"
   ]
  },
  {
   "cell_type": "code",
   "execution_count": 125,
   "metadata": {},
   "outputs": [
    {
     "data": {
      "text/html": [
       "<div>\n",
       "<style scoped>\n",
       "    .dataframe tbody tr th:only-of-type {\n",
       "        vertical-align: middle;\n",
       "    }\n",
       "\n",
       "    .dataframe tbody tr th {\n",
       "        vertical-align: top;\n",
       "    }\n",
       "\n",
       "    .dataframe thead th {\n",
       "        text-align: right;\n",
       "    }\n",
       "</style>\n",
       "<table border=\"1\" class=\"dataframe\">\n",
       "  <thead>\n",
       "    <tr style=\"text-align: right;\">\n",
       "      <th></th>\n",
       "      <th>meses</th>\n",
       "      <th>cantidad</th>\n",
       "      <th>tasa_de_interes</th>\n",
       "      <th>edad</th>\n",
       "      <th>numero_creditos</th>\n",
       "      <th>dependientes_economicos</th>\n",
       "      <th>credito_pagado</th>\n",
       "      <th>sl_desempleado</th>\n",
       "      <th>sl_gobierno</th>\n",
       "      <th>sl_obrero</th>\n",
       "    </tr>\n",
       "  </thead>\n",
       "  <tbody>\n",
       "    <tr>\n",
       "      <th>0</th>\n",
       "      <td>6</td>\n",
       "      <td>1169</td>\n",
       "      <td>4</td>\n",
       "      <td>67</td>\n",
       "      <td>2</td>\n",
       "      <td>1</td>\n",
       "      <td>1</td>\n",
       "      <td>0</td>\n",
       "      <td>1</td>\n",
       "      <td>0</td>\n",
       "    </tr>\n",
       "    <tr>\n",
       "      <th>1</th>\n",
       "      <td>48</td>\n",
       "      <td>5951</td>\n",
       "      <td>2</td>\n",
       "      <td>22</td>\n",
       "      <td>1</td>\n",
       "      <td>1</td>\n",
       "      <td>0</td>\n",
       "      <td>0</td>\n",
       "      <td>1</td>\n",
       "      <td>0</td>\n",
       "    </tr>\n",
       "    <tr>\n",
       "      <th>2</th>\n",
       "      <td>12</td>\n",
       "      <td>2096</td>\n",
       "      <td>2</td>\n",
       "      <td>49</td>\n",
       "      <td>1</td>\n",
       "      <td>2</td>\n",
       "      <td>1</td>\n",
       "      <td>0</td>\n",
       "      <td>0</td>\n",
       "      <td>1</td>\n",
       "    </tr>\n",
       "    <tr>\n",
       "      <th>3</th>\n",
       "      <td>42</td>\n",
       "      <td>7882</td>\n",
       "      <td>2</td>\n",
       "      <td>45</td>\n",
       "      <td>1</td>\n",
       "      <td>2</td>\n",
       "      <td>1</td>\n",
       "      <td>0</td>\n",
       "      <td>1</td>\n",
       "      <td>0</td>\n",
       "    </tr>\n",
       "    <tr>\n",
       "      <th>4</th>\n",
       "      <td>24</td>\n",
       "      <td>4870</td>\n",
       "      <td>3</td>\n",
       "      <td>53</td>\n",
       "      <td>2</td>\n",
       "      <td>2</td>\n",
       "      <td>0</td>\n",
       "      <td>0</td>\n",
       "      <td>1</td>\n",
       "      <td>0</td>\n",
       "    </tr>\n",
       "    <tr>\n",
       "      <th>...</th>\n",
       "      <td>...</td>\n",
       "      <td>...</td>\n",
       "      <td>...</td>\n",
       "      <td>...</td>\n",
       "      <td>...</td>\n",
       "      <td>...</td>\n",
       "      <td>...</td>\n",
       "      <td>...</td>\n",
       "      <td>...</td>\n",
       "      <td>...</td>\n",
       "    </tr>\n",
       "    <tr>\n",
       "      <th>995</th>\n",
       "      <td>12</td>\n",
       "      <td>1736</td>\n",
       "      <td>3</td>\n",
       "      <td>31</td>\n",
       "      <td>1</td>\n",
       "      <td>1</td>\n",
       "      <td>1</td>\n",
       "      <td>0</td>\n",
       "      <td>0</td>\n",
       "      <td>1</td>\n",
       "    </tr>\n",
       "    <tr>\n",
       "      <th>996</th>\n",
       "      <td>30</td>\n",
       "      <td>3857</td>\n",
       "      <td>4</td>\n",
       "      <td>40</td>\n",
       "      <td>1</td>\n",
       "      <td>1</td>\n",
       "      <td>1</td>\n",
       "      <td>0</td>\n",
       "      <td>0</td>\n",
       "      <td>0</td>\n",
       "    </tr>\n",
       "    <tr>\n",
       "      <th>997</th>\n",
       "      <td>12</td>\n",
       "      <td>804</td>\n",
       "      <td>4</td>\n",
       "      <td>38</td>\n",
       "      <td>1</td>\n",
       "      <td>1</td>\n",
       "      <td>1</td>\n",
       "      <td>0</td>\n",
       "      <td>1</td>\n",
       "      <td>0</td>\n",
       "    </tr>\n",
       "    <tr>\n",
       "      <th>998</th>\n",
       "      <td>45</td>\n",
       "      <td>1845</td>\n",
       "      <td>4</td>\n",
       "      <td>23</td>\n",
       "      <td>1</td>\n",
       "      <td>1</td>\n",
       "      <td>0</td>\n",
       "      <td>0</td>\n",
       "      <td>1</td>\n",
       "      <td>0</td>\n",
       "    </tr>\n",
       "    <tr>\n",
       "      <th>999</th>\n",
       "      <td>45</td>\n",
       "      <td>4576</td>\n",
       "      <td>3</td>\n",
       "      <td>27</td>\n",
       "      <td>1</td>\n",
       "      <td>1</td>\n",
       "      <td>1</td>\n",
       "      <td>0</td>\n",
       "      <td>1</td>\n",
       "      <td>0</td>\n",
       "    </tr>\n",
       "  </tbody>\n",
       "</table>\n",
       "<p>1000 rows × 10 columns</p>\n",
       "</div>"
      ],
      "text/plain": [
       "     meses  cantidad  tasa_de_interes  edad  numero_creditos  \\\n",
       "0        6      1169                4    67                2   \n",
       "1       48      5951                2    22                1   \n",
       "2       12      2096                2    49                1   \n",
       "3       42      7882                2    45                1   \n",
       "4       24      4870                3    53                2   \n",
       "..     ...       ...              ...   ...              ...   \n",
       "995     12      1736                3    31                1   \n",
       "996     30      3857                4    40                1   \n",
       "997     12       804                4    38                1   \n",
       "998     45      1845                4    23                1   \n",
       "999     45      4576                3    27                1   \n",
       "\n",
       "     dependientes_economicos  credito_pagado  sl_desempleado  sl_gobierno  \\\n",
       "0                          1               1               0            1   \n",
       "1                          1               0               0            1   \n",
       "2                          2               1               0            0   \n",
       "3                          2               1               0            1   \n",
       "4                          2               0               0            1   \n",
       "..                       ...             ...             ...          ...   \n",
       "995                        1               1               0            0   \n",
       "996                        1               1               0            0   \n",
       "997                        1               1               0            1   \n",
       "998                        1               0               0            1   \n",
       "999                        1               1               0            1   \n",
       "\n",
       "     sl_obrero  \n",
       "0            0  \n",
       "1            0  \n",
       "2            1  \n",
       "3            0  \n",
       "4            0  \n",
       "..         ...  \n",
       "995          1  \n",
       "996          0  \n",
       "997          0  \n",
       "998          0  \n",
       "999          0  \n",
       "\n",
       "[1000 rows x 10 columns]"
      ]
     },
     "execution_count": 125,
     "metadata": {},
     "output_type": "execute_result"
    }
   ],
   "source": [
    "# Eliminar las columnas originales de salario y departamento DataFrame y agregar las nuevas\n",
    "\n",
    "prestamos_cox = prestamos_cox.drop(['situacion_laboral'], axis=1)\n",
    "prestamos_cox = pd.concat([prestamos_cox, situacion_dummy], axis=1)\n",
    "prestamos_cox\n"
   ]
  },
  {
   "cell_type": "markdown",
   "metadata": {},
   "source": [
    "c) Calcular estadísticas descriptivas"
   ]
  },
  {
   "cell_type": "code",
   "execution_count": 127,
   "metadata": {},
   "outputs": [
    {
     "data": {
      "text/html": [
       "<div>\n",
       "<style scoped>\n",
       "    .dataframe tbody tr th:only-of-type {\n",
       "        vertical-align: middle;\n",
       "    }\n",
       "\n",
       "    .dataframe tbody tr th {\n",
       "        vertical-align: top;\n",
       "    }\n",
       "\n",
       "    .dataframe thead th {\n",
       "        text-align: right;\n",
       "    }\n",
       "</style>\n",
       "<table border=\"1\" class=\"dataframe\">\n",
       "  <thead>\n",
       "    <tr style=\"text-align: right;\">\n",
       "      <th></th>\n",
       "      <th>meses</th>\n",
       "      <th>cantidad</th>\n",
       "      <th>tasa_de_interes</th>\n",
       "      <th>edad</th>\n",
       "      <th>numero_creditos</th>\n",
       "      <th>dependientes_economicos</th>\n",
       "      <th>credito_pagado</th>\n",
       "      <th>sl_desempleado</th>\n",
       "      <th>sl_gobierno</th>\n",
       "      <th>sl_obrero</th>\n",
       "    </tr>\n",
       "  </thead>\n",
       "  <tbody>\n",
       "    <tr>\n",
       "      <th>count</th>\n",
       "      <td>1000.000000</td>\n",
       "      <td>1000.000000</td>\n",
       "      <td>1000.000000</td>\n",
       "      <td>1000.000000</td>\n",
       "      <td>1000.000000</td>\n",
       "      <td>1000.000000</td>\n",
       "      <td>1000.000000</td>\n",
       "      <td>1000.000000</td>\n",
       "      <td>1000.000000</td>\n",
       "      <td>1000.0000</td>\n",
       "    </tr>\n",
       "    <tr>\n",
       "      <th>mean</th>\n",
       "      <td>20.903000</td>\n",
       "      <td>3271.258000</td>\n",
       "      <td>2.973000</td>\n",
       "      <td>35.546000</td>\n",
       "      <td>1.407000</td>\n",
       "      <td>1.155000</td>\n",
       "      <td>0.700000</td>\n",
       "      <td>0.022000</td>\n",
       "      <td>0.630000</td>\n",
       "      <td>0.2000</td>\n",
       "    </tr>\n",
       "    <tr>\n",
       "      <th>std</th>\n",
       "      <td>12.058814</td>\n",
       "      <td>2822.736876</td>\n",
       "      <td>1.118715</td>\n",
       "      <td>11.375469</td>\n",
       "      <td>0.577654</td>\n",
       "      <td>0.362086</td>\n",
       "      <td>0.458487</td>\n",
       "      <td>0.146757</td>\n",
       "      <td>0.483046</td>\n",
       "      <td>0.4002</td>\n",
       "    </tr>\n",
       "    <tr>\n",
       "      <th>min</th>\n",
       "      <td>4.000000</td>\n",
       "      <td>250.000000</td>\n",
       "      <td>1.000000</td>\n",
       "      <td>19.000000</td>\n",
       "      <td>1.000000</td>\n",
       "      <td>1.000000</td>\n",
       "      <td>0.000000</td>\n",
       "      <td>0.000000</td>\n",
       "      <td>0.000000</td>\n",
       "      <td>0.0000</td>\n",
       "    </tr>\n",
       "    <tr>\n",
       "      <th>25%</th>\n",
       "      <td>12.000000</td>\n",
       "      <td>1365.500000</td>\n",
       "      <td>2.000000</td>\n",
       "      <td>27.000000</td>\n",
       "      <td>1.000000</td>\n",
       "      <td>1.000000</td>\n",
       "      <td>0.000000</td>\n",
       "      <td>0.000000</td>\n",
       "      <td>0.000000</td>\n",
       "      <td>0.0000</td>\n",
       "    </tr>\n",
       "    <tr>\n",
       "      <th>50%</th>\n",
       "      <td>18.000000</td>\n",
       "      <td>2319.500000</td>\n",
       "      <td>3.000000</td>\n",
       "      <td>33.000000</td>\n",
       "      <td>1.000000</td>\n",
       "      <td>1.000000</td>\n",
       "      <td>1.000000</td>\n",
       "      <td>0.000000</td>\n",
       "      <td>1.000000</td>\n",
       "      <td>0.0000</td>\n",
       "    </tr>\n",
       "    <tr>\n",
       "      <th>75%</th>\n",
       "      <td>24.000000</td>\n",
       "      <td>3972.250000</td>\n",
       "      <td>4.000000</td>\n",
       "      <td>42.000000</td>\n",
       "      <td>2.000000</td>\n",
       "      <td>1.000000</td>\n",
       "      <td>1.000000</td>\n",
       "      <td>0.000000</td>\n",
       "      <td>1.000000</td>\n",
       "      <td>0.0000</td>\n",
       "    </tr>\n",
       "    <tr>\n",
       "      <th>max</th>\n",
       "      <td>72.000000</td>\n",
       "      <td>18424.000000</td>\n",
       "      <td>4.000000</td>\n",
       "      <td>75.000000</td>\n",
       "      <td>4.000000</td>\n",
       "      <td>2.000000</td>\n",
       "      <td>1.000000</td>\n",
       "      <td>1.000000</td>\n",
       "      <td>1.000000</td>\n",
       "      <td>1.0000</td>\n",
       "    </tr>\n",
       "  </tbody>\n",
       "</table>\n",
       "</div>"
      ],
      "text/plain": [
       "             meses      cantidad  tasa_de_interes         edad  \\\n",
       "count  1000.000000   1000.000000      1000.000000  1000.000000   \n",
       "mean     20.903000   3271.258000         2.973000    35.546000   \n",
       "std      12.058814   2822.736876         1.118715    11.375469   \n",
       "min       4.000000    250.000000         1.000000    19.000000   \n",
       "25%      12.000000   1365.500000         2.000000    27.000000   \n",
       "50%      18.000000   2319.500000         3.000000    33.000000   \n",
       "75%      24.000000   3972.250000         4.000000    42.000000   \n",
       "max      72.000000  18424.000000         4.000000    75.000000   \n",
       "\n",
       "       numero_creditos  dependientes_economicos  credito_pagado  \\\n",
       "count      1000.000000              1000.000000     1000.000000   \n",
       "mean          1.407000                 1.155000        0.700000   \n",
       "std           0.577654                 0.362086        0.458487   \n",
       "min           1.000000                 1.000000        0.000000   \n",
       "25%           1.000000                 1.000000        0.000000   \n",
       "50%           1.000000                 1.000000        1.000000   \n",
       "75%           2.000000                 1.000000        1.000000   \n",
       "max           4.000000                 2.000000        1.000000   \n",
       "\n",
       "       sl_desempleado  sl_gobierno  sl_obrero  \n",
       "count     1000.000000  1000.000000  1000.0000  \n",
       "mean         0.022000     0.630000     0.2000  \n",
       "std          0.146757     0.483046     0.4002  \n",
       "min          0.000000     0.000000     0.0000  \n",
       "25%          0.000000     0.000000     0.0000  \n",
       "50%          0.000000     1.000000     0.0000  \n",
       "75%          0.000000     1.000000     0.0000  \n",
       "max          1.000000     1.000000     1.0000  "
      ]
     },
     "execution_count": 127,
     "metadata": {},
     "output_type": "execute_result"
    }
   ],
   "source": [
    "prestamos_cox.describe()"
   ]
  },
  {
   "cell_type": "markdown",
   "metadata": {},
   "source": [
    "d) Estima un modelo de cox con las variables elegidas e interpreta los coeficientes."
   ]
  },
  {
   "cell_type": "code",
   "execution_count": 128,
   "metadata": {},
   "outputs": [],
   "source": [
    "modelo_cox = CoxPHFitter().fit(prestamos_cox, 'meses', 'credito_pagado')"
   ]
  },
  {
   "cell_type": "code",
   "execution_count": 129,
   "metadata": {},
   "outputs": [
    {
     "data": {
      "text/html": [
       "<div>\n",
       "<style scoped>\n",
       "    .dataframe tbody tr th:only-of-type {\n",
       "        vertical-align: middle;\n",
       "    }\n",
       "\n",
       "    .dataframe tbody tr th {\n",
       "        vertical-align: top;\n",
       "    }\n",
       "\n",
       "    .dataframe thead th {\n",
       "        text-align: right;\n",
       "    }\n",
       "</style>\n",
       "<table border=\"1\" class=\"dataframe\">\n",
       "  <tbody>\n",
       "    <tr>\n",
       "      <th>model</th>\n",
       "      <td>lifelines.CoxPHFitter</td>\n",
       "    </tr>\n",
       "    <tr>\n",
       "      <th>duration col</th>\n",
       "      <td>'meses'</td>\n",
       "    </tr>\n",
       "    <tr>\n",
       "      <th>event col</th>\n",
       "      <td>'credito_pagado'</td>\n",
       "    </tr>\n",
       "    <tr>\n",
       "      <th>baseline estimation</th>\n",
       "      <td>breslow</td>\n",
       "    </tr>\n",
       "    <tr>\n",
       "      <th>number of observations</th>\n",
       "      <td>1000</td>\n",
       "    </tr>\n",
       "    <tr>\n",
       "      <th>number of events observed</th>\n",
       "      <td>700</td>\n",
       "    </tr>\n",
       "    <tr>\n",
       "      <th>partial log-likelihood</th>\n",
       "      <td>-4051.48</td>\n",
       "    </tr>\n",
       "    <tr>\n",
       "      <th>time fit was run</th>\n",
       "      <td>2023-10-05 06:10:02 UTC</td>\n",
       "    </tr>\n",
       "  </tbody>\n",
       "</table>\n",
       "</div><table border=\"1\" class=\"dataframe\">\n",
       "  <thead>\n",
       "    <tr style=\"text-align: right;\">\n",
       "      <th style=\"min-width: 12px;\"></th>\n",
       "      <th style=\"min-width: 12px;\">coef</th>\n",
       "      <th style=\"min-width: 12px;\">exp(coef)</th>\n",
       "      <th style=\"min-width: 12px;\">se(coef)</th>\n",
       "      <th style=\"min-width: 12px;\">coef lower 95%</th>\n",
       "      <th style=\"min-width: 12px;\">coef upper 95%</th>\n",
       "      <th style=\"min-width: 12px;\">exp(coef) lower 95%</th>\n",
       "      <th style=\"min-width: 12px;\">exp(coef) upper 95%</th>\n",
       "      <th style=\"min-width: 12px;\">cmp to</th>\n",
       "      <th style=\"min-width: 12px;\">z</th>\n",
       "      <th style=\"min-width: 12px;\">p</th>\n",
       "      <th style=\"min-width: 12px;\">-log2(p)</th>\n",
       "    </tr>\n",
       "  </thead>\n",
       "  <tbody>\n",
       "    <tr>\n",
       "      <th>cantidad</th>\n",
       "      <td>-0.00</td>\n",
       "      <td>1.00</td>\n",
       "      <td>0.00</td>\n",
       "      <td>-0.00</td>\n",
       "      <td>-0.00</td>\n",
       "      <td>1.00</td>\n",
       "      <td>1.00</td>\n",
       "      <td>0.00</td>\n",
       "      <td>-16.34</td>\n",
       "      <td>&lt;0.005</td>\n",
       "      <td>196.93</td>\n",
       "    </tr>\n",
       "    <tr>\n",
       "      <th>tasa_de_interes</th>\n",
       "      <td>-0.43</td>\n",
       "      <td>0.65</td>\n",
       "      <td>0.04</td>\n",
       "      <td>-0.51</td>\n",
       "      <td>-0.36</td>\n",
       "      <td>0.60</td>\n",
       "      <td>0.70</td>\n",
       "      <td>0.00</td>\n",
       "      <td>-11.53</td>\n",
       "      <td>&lt;0.005</td>\n",
       "      <td>99.80</td>\n",
       "    </tr>\n",
       "    <tr>\n",
       "      <th>edad</th>\n",
       "      <td>0.01</td>\n",
       "      <td>1.01</td>\n",
       "      <td>0.00</td>\n",
       "      <td>0.01</td>\n",
       "      <td>0.02</td>\n",
       "      <td>1.01</td>\n",
       "      <td>1.02</td>\n",
       "      <td>0.00</td>\n",
       "      <td>4.26</td>\n",
       "      <td>&lt;0.005</td>\n",
       "      <td>15.58</td>\n",
       "    </tr>\n",
       "    <tr>\n",
       "      <th>numero_creditos</th>\n",
       "      <td>0.15</td>\n",
       "      <td>1.16</td>\n",
       "      <td>0.07</td>\n",
       "      <td>0.02</td>\n",
       "      <td>0.28</td>\n",
       "      <td>1.02</td>\n",
       "      <td>1.32</td>\n",
       "      <td>0.00</td>\n",
       "      <td>2.20</td>\n",
       "      <td>0.03</td>\n",
       "      <td>5.18</td>\n",
       "    </tr>\n",
       "    <tr>\n",
       "      <th>dependientes_economicos</th>\n",
       "      <td>0.01</td>\n",
       "      <td>1.01</td>\n",
       "      <td>0.11</td>\n",
       "      <td>-0.20</td>\n",
       "      <td>0.21</td>\n",
       "      <td>0.82</td>\n",
       "      <td>1.24</td>\n",
       "      <td>0.00</td>\n",
       "      <td>0.08</td>\n",
       "      <td>0.94</td>\n",
       "      <td>0.09</td>\n",
       "    </tr>\n",
       "    <tr>\n",
       "      <th>sl_desempleado</th>\n",
       "      <td>-0.70</td>\n",
       "      <td>0.49</td>\n",
       "      <td>0.29</td>\n",
       "      <td>-1.27</td>\n",
       "      <td>-0.14</td>\n",
       "      <td>0.28</td>\n",
       "      <td>0.87</td>\n",
       "      <td>0.00</td>\n",
       "      <td>-2.44</td>\n",
       "      <td>0.01</td>\n",
       "      <td>6.09</td>\n",
       "    </tr>\n",
       "    <tr>\n",
       "      <th>sl_gobierno</th>\n",
       "      <td>-0.24</td>\n",
       "      <td>0.79</td>\n",
       "      <td>0.11</td>\n",
       "      <td>-0.46</td>\n",
       "      <td>-0.01</td>\n",
       "      <td>0.63</td>\n",
       "      <td>0.99</td>\n",
       "      <td>0.00</td>\n",
       "      <td>-2.07</td>\n",
       "      <td>0.04</td>\n",
       "      <td>4.71</td>\n",
       "    </tr>\n",
       "    <tr>\n",
       "      <th>sl_obrero</th>\n",
       "      <td>-0.01</td>\n",
       "      <td>0.99</td>\n",
       "      <td>0.14</td>\n",
       "      <td>-0.27</td>\n",
       "      <td>0.26</td>\n",
       "      <td>0.76</td>\n",
       "      <td>1.30</td>\n",
       "      <td>0.00</td>\n",
       "      <td>-0.06</td>\n",
       "      <td>0.95</td>\n",
       "      <td>0.07</td>\n",
       "    </tr>\n",
       "  </tbody>\n",
       "</table><br><div>\n",
       "<style scoped>\n",
       "    .dataframe tbody tr th:only-of-type {\n",
       "        vertical-align: middle;\n",
       "    }\n",
       "\n",
       "    .dataframe tbody tr th {\n",
       "        vertical-align: top;\n",
       "    }\n",
       "\n",
       "    .dataframe thead th {\n",
       "        text-align: right;\n",
       "    }\n",
       "</style>\n",
       "<table border=\"1\" class=\"dataframe\">\n",
       "  <tbody>\n",
       "    <tr>\n",
       "      <th>Concordance</th>\n",
       "      <td>0.78</td>\n",
       "    </tr>\n",
       "    <tr>\n",
       "      <th>Partial AIC</th>\n",
       "      <td>8118.95</td>\n",
       "    </tr>\n",
       "    <tr>\n",
       "      <th>log-likelihood ratio test</th>\n",
       "      <td>435.82 on 8 df</td>\n",
       "    </tr>\n",
       "    <tr>\n",
       "      <th>-log2(p) of ll-ratio test</th>\n",
       "      <td>293.64</td>\n",
       "    </tr>\n",
       "  </tbody>\n",
       "</table>\n",
       "</div>"
      ],
      "text/latex": [
       "\\begin{tabular}{lrrrrrrrrrrr}\n",
       " & coef & exp(coef) & se(coef) & coef lower 95% & coef upper 95% & exp(coef) lower 95% & exp(coef) upper 95% & cmp to & z & p & -log2(p) \\\\\n",
       "covariate &  &  &  &  &  &  &  &  &  &  &  \\\\\n",
       "cantidad & -0.00 & 1.00 & 0.00 & -0.00 & -0.00 & 1.00 & 1.00 & 0.00 & -16.34 & 0.00 & 196.93 \\\\\n",
       "tasa_de_interes & -0.43 & 0.65 & 0.04 & -0.51 & -0.36 & 0.60 & 0.70 & 0.00 & -11.53 & 0.00 & 99.80 \\\\\n",
       "edad & 0.01 & 1.01 & 0.00 & 0.01 & 0.02 & 1.01 & 1.02 & 0.00 & 4.26 & 0.00 & 15.58 \\\\\n",
       "numero_creditos & 0.15 & 1.16 & 0.07 & 0.02 & 0.28 & 1.02 & 1.32 & 0.00 & 2.20 & 0.03 & 5.18 \\\\\n",
       "dependientes_economicos & 0.01 & 1.01 & 0.11 & -0.20 & 0.21 & 0.82 & 1.24 & 0.00 & 0.08 & 0.94 & 0.09 \\\\\n",
       "sl_desempleado & -0.70 & 0.49 & 0.29 & -1.27 & -0.14 & 0.28 & 0.87 & 0.00 & -2.44 & 0.01 & 6.09 \\\\\n",
       "sl_gobierno & -0.24 & 0.79 & 0.11 & -0.46 & -0.01 & 0.63 & 0.99 & 0.00 & -2.07 & 0.04 & 4.71 \\\\\n",
       "sl_obrero & -0.01 & 0.99 & 0.14 & -0.27 & 0.26 & 0.76 & 1.30 & 0.00 & -0.06 & 0.95 & 0.07 \\\\\n",
       "\\end{tabular}\n"
      ],
      "text/plain": [
       "<lifelines.CoxPHFitter: fitted with 1000 total observations, 300 right-censored observations>\n",
       "             duration col = 'meses'\n",
       "                event col = 'credito_pagado'\n",
       "      baseline estimation = breslow\n",
       "   number of observations = 1000\n",
       "number of events observed = 700\n",
       "   partial log-likelihood = -4051.48\n",
       "         time fit was run = 2023-10-05 06:10:02 UTC\n",
       "\n",
       "---\n",
       "                          coef  exp(coef)   se(coef)   coef lower 95%   coef upper 95%  exp(coef) lower 95%  exp(coef) upper 95%\n",
       "covariate                                                                                                                       \n",
       "cantidad                 -0.00       1.00       0.00            -0.00            -0.00                 1.00                 1.00\n",
       "tasa_de_interes          -0.43       0.65       0.04            -0.51            -0.36                 0.60                 0.70\n",
       "edad                      0.01       1.01       0.00             0.01             0.02                 1.01                 1.02\n",
       "numero_creditos           0.15       1.16       0.07             0.02             0.28                 1.02                 1.32\n",
       "dependientes_economicos   0.01       1.01       0.11            -0.20             0.21                 0.82                 1.24\n",
       "sl_desempleado           -0.70       0.49       0.29            -1.27            -0.14                 0.28                 0.87\n",
       "sl_gobierno              -0.24       0.79       0.11            -0.46            -0.01                 0.63                 0.99\n",
       "sl_obrero                -0.01       0.99       0.14            -0.27             0.26                 0.76                 1.30\n",
       "\n",
       "                          cmp to      z      p   -log2(p)\n",
       "covariate                                                \n",
       "cantidad                    0.00 -16.34 <0.005     196.93\n",
       "tasa_de_interes             0.00 -11.53 <0.005      99.80\n",
       "edad                        0.00   4.26 <0.005      15.58\n",
       "numero_creditos             0.00   2.20   0.03       5.18\n",
       "dependientes_economicos     0.00   0.08   0.94       0.09\n",
       "sl_desempleado              0.00  -2.44   0.01       6.09\n",
       "sl_gobierno                 0.00  -2.07   0.04       4.71\n",
       "sl_obrero                   0.00  -0.06   0.95       0.07\n",
       "---\n",
       "Concordance = 0.78\n",
       "Partial AIC = 8118.95\n",
       "log-likelihood ratio test = 435.82 on 8 df\n",
       "-log2(p) of ll-ratio test = 293.64"
      ]
     },
     "metadata": {},
     "output_type": "display_data"
    }
   ],
   "source": [
    "modelo_cox.print_summary()"
   ]
  },
  {
   "cell_type": "code",
   "execution_count": 130,
   "metadata": {},
   "outputs": [
    {
     "data": {
      "text/plain": [
       "covariate\n",
       "cantidad                  -0.000394\n",
       "tasa_de_interes           -0.432001\n",
       "edad                       0.014553\n",
       "numero_creditos            0.147965\n",
       "dependientes_economicos    0.008339\n",
       "sl_desempleado            -0.703419\n",
       "sl_gobierno               -0.238376\n",
       "sl_obrero                 -0.008136\n",
       "Name: coef, dtype: float64"
      ]
     },
     "execution_count": 130,
     "metadata": {},
     "output_type": "execute_result"
    }
   ],
   "source": [
    "# Coeficientes sin redondeo\n",
    "modelo_cox.params_"
   ]
  },
  {
   "cell_type": "code",
   "execution_count": 131,
   "metadata": {},
   "outputs": [
    {
     "data": {
      "text/plain": [
       "covariate\n",
       "cantidad                   0.999607\n",
       "tasa_de_interes            0.649209\n",
       "edad                       1.014659\n",
       "numero_creditos            1.159472\n",
       "dependientes_economicos    1.008374\n",
       "sl_desempleado             0.494890\n",
       "sl_gobierno                0.787907\n",
       "sl_obrero                  0.991897\n",
       "Name: exp(coef), dtype: float64"
      ]
     },
     "execution_count": 131,
     "metadata": {},
     "output_type": "execute_result"
    }
   ],
   "source": [
    "# Exp(coef) sin redondear\n",
    "modelo_cox.hazard_ratios_"
   ]
  },
  {
   "cell_type": "markdown",
   "metadata": {},
   "source": [
    "### **Interpretación de los coeficientes**"
   ]
  },
  {
   "cell_type": "markdown",
   "metadata": {},
   "source": [
    "Rechazamos $H_0$ si p-value < $alpha$\n",
    "\n",
    "Además:\n",
    "\n",
    "Cuando coef(+) , entonces exp(coef) > 1 ,es decir , la variable influye de manera positiva (aumenta) ; (exp(coef)-1)\n",
    " \n",
    "Cuando coef(-) , entonces exp(coef)< 1 ,es decir , la variable influye de manera negativa (disminuye) ; (1-exp(coef))\n"
   ]
  },
  {
   "cell_type": "markdown",
   "metadata": {},
   "source": [
    "***cantidad***\n",
    "\n",
    "0.005 < 0.05\n",
    "\n",
    "Rechazamos Ho. \n",
    "\n",
    "El monto del préstamo otorgado en euros disminuye en 0.039% el riesgo de que una persona pague el préstamo en su totalidad\n",
    "\n",
    "***tasa_de_interes***\n",
    "\n",
    "0.005 < 0.05\n",
    "\n",
    "Rechazamos Ho. \n",
    "\n",
    "La tasa de interés disminuye en 35.07% el riesgo de que una persona pague el préstamo en su totalidad\n",
    "\n",
    "***edad***\n",
    "\n",
    "0.005 < 0.05\n",
    "\n",
    "Rechazamos Ho. \n",
    "\n",
    "La edad de la persona a la que se le otorga el préstamo aumenta en 1.46% el riesgo de que una persona pague el préstamo en su totalidad\n",
    "\n",
    "***numero_creditos***\n",
    "\n",
    "0.005 < 0.05\n",
    "\n",
    "Rechazamos Ho. \n",
    "\n",
    "El número de créditos otorgados a la persona que solicitó el préstamo aumenta en 15.94% el riesgo de que una persona pague el préstamo en su totalidad\n",
    "\n",
    "***dependientes_economicos***\n",
    "\n",
    "0.94 > 0.05\n",
    "\n",
    "No rechazamos Ho. \n",
    "\n",
    "Los dependientes economicos de una persona no afecta significativamente el riesgo de que una persona pague el présstamo en su totalidad \n",
    "\n",
    "***sl_desempleado***\n",
    "\n",
    "0.01 < 0.05\n",
    "\n",
    "Rechazamos Ho. \n",
    "\n",
    "El que una persona se encuentre desempleada dismuye en 29.65% el riesgo de que una persona pague el préstamo en su totalidad a comparación de una persona que tenga un empleo administrativo\n",
    "\n",
    "***sl_gobierno***\n",
    "\n",
    "0.04 < 0.05\n",
    "\n",
    "Rechazamos Ho. \n",
    "\n",
    "El que una persona se encuentre con un empleo de gobierno dismuye en 21.2% el riesgo de que una persona pague el préstamo en su totalidad a comparación de una persona que tenga un empleo administrativo\n",
    "\n",
    "***sl_obrero***\n",
    "\n",
    "0.95 > 0.05\n",
    "\n",
    "No rechazamos Ho. \n",
    "\n",
    "Esto nos indica que el que una persona tenga un empleo de obrero no tiene un efecto significativo en el riesgo de que una persona pague el préstamo en su totalidad\n",
    "\n"
   ]
  },
  {
   "cell_type": "markdown",
   "metadata": {},
   "source": [
    "### 5. Con base en los cálculos realizados, redacta un comentario integral de por lo menos 250 palabras que resuma el análisis, reflexiones y recomendaciones sobre la política de otorgamiento de créditos en el Banco de la Ilusión "
   ]
  },
  {
   "cell_type": "markdown",
   "metadata": {},
   "source": [
    "El Banco de la Ilusión propociona una base de datos con información importante de los préstamos que otorga a sus clientes, esta base de datos contiene 21 variables y 1000 entradas. En promedio el banco otorga préstamos de 3271.26 euros con una tasa de intéres promedio de 2.97%. Con un modelo de Kaplan Meier se observa que la mitad de estos préstamos fueron pagados en el mes 24. \n",
    "\n",
    "Basandose en la evidencia estadística encontrada con el modelo de Cox la política de otorgamiento de créditos en el Banco de la Ilusión debe considerar los siguientes aspectos al momento de otorgar un crédito:\n",
    "\n",
    "- Manejar tasas de interés factibles para los clientes, si bien, le es conveniente manejar una tasa de interés elevada para recibir mayor ganancia por parte de interesés también se eleva la posibilidad de que el cliente no pueda pagarlo\n",
    "\n",
    "- Analizar bien el monto del préstamo que se le va a otorgar al cliente, esto debido a que si es muy grande evidentemente el pagarlo puede ser más complicado\n",
    "\n",
    "- Entre más edad tenga el cliente es más factible que su capacidad de pago sea mayor, sin embargo esto no lo asegura por completo\n",
    "\n",
    "- El que un cliente tenga o no tenga dependientes económicos no influye en la capacidad de pago del cliente en esta base de datos\n",
    "\n",
    "Además, la situación laboral del cliente se clasifica como:\n",
    "\n",
    "- Desempleado\n",
    "- Gobierno\n",
    "- Obrero\n",
    "- Administrativo\n",
    "\n",
    "Al compararse con una persona con empleo administrativo, el ser desempleado y ser trabajador del gobierno afecta considerablemente el hecho de que una persona pueda pagar o no, por lo que el banco debe tomar sus medidas precauciones con estas personas. \n",
    "\n",
    "\n",
    "\n"
   ]
  },
  {
   "cell_type": "markdown",
   "metadata": {},
   "source": [
    "El Banco de la Ilusión propociona una base de datos con información importante de los préstamos que otorga a sus clientes, esta base de datos contiene 21 variables y 1000 entradas. En promedio el banco otorga préstamos de 3271.26 euros con una tasa de intéres promedio de 2.97%. Con un modelo de Kaplan Meier se observa que la mitad de estos préstamos fueron pagados en el mes 24. \n",
    "\n",
    "Basandose en la evidencia estadística encontrada con el modelo de Cox la política de otorgamiento de créditos en el Banco de la Ilusión debe considerar los siguientes aspectos al momento de otorgar un crédito:\n",
    "\n",
    "- Manejar tasas de interés factibles para los clientes, si bien, le es conveniente manejar una tasa de interés elevada para recibir mayor ganancia por parte de interesés también se eleva la posibilidad de que el cliente no pueda pagarlo\n",
    "\n",
    "- Analizar bien el monto del préstamo que se le va a otorgar al cliente, esto debido a que si es muy grande evidentemente el pagarlo puede ser más complicado\n",
    "\n",
    "- Entre más edad tenga el cliente es más factible que su capacidad de pago sea mayor, sin embargo esto no lo asegura por completo\n",
    "\n",
    "- El que un cliente tenga o no tenga dependientes económicos no influye en la capacidad de pago del cliente en esta base de datos\n",
    "\n",
    "Además, la situación laboral del cliente se clasifica como:\n",
    "\n",
    "- Desempleado\n",
    "- Gobierno\n",
    "- Obrero\n",
    "- Administrativo\n",
    "\n",
    "Al compararse con una persona con empleo administrativo, el ser desempleado y ser trabajador del gobierno afecta considerablemente el hecho de que una persona pueda pagar o no, por lo que el banco debe tomar sus medidas precauciones con estas personas. \n",
    "\n",
    "\n",
    "\n"
   ]
  },
  {
   "cell_type": "markdown",
   "metadata": {},
   "source": []
  }
 ],
 "metadata": {
  "kernelspec": {
   "display_name": "Python 3",
   "language": "python",
   "name": "python3"
  },
  "language_info": {
   "codemirror_mode": {
    "name": "ipython",
    "version": 3
   },
   "file_extension": ".py",
   "mimetype": "text/x-python",
   "name": "python",
   "nbconvert_exporter": "python",
   "pygments_lexer": "ipython3",
   "version": "3.11.4"
  },
  "orig_nbformat": 4
 },
 "nbformat": 4,
 "nbformat_minor": 2
}
