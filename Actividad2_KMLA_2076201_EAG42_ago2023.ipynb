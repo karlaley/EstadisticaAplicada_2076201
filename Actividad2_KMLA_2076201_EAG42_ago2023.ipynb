{
 "cells": [
  {
   "cell_type": "markdown",
   "id": "093543d7-16f9-415a-86c1-d1617213edfe",
   "metadata": {},
   "source": [
    "# Actividad 2\n",
    "Nombre: Karla Mariana Ley Acero\n",
    "\n",
    "Matrícula: 2076201\n",
    "\n",
    "Grupo: 42"
   ]
  },
  {
   "cell_type": "markdown",
   "id": "aa29e0d3-4818-44b9-b57f-3cfd97b9a2ae",
   "metadata": {},
   "source": [
    "1. Contamos con la edad de las personas de San Andres, un pueblito de la sierra de Nuevo León, que cuenta con 50 habitantes en total. Genera una lista con la edad de los 50 habitantes de San Andres. la lista debe llamarse \"edades_pueblito\""
   ]
  },
  {
   "cell_type": "code",
   "execution_count": 2,
   "id": "878cc4c3-3709-4c73-8e36-5e0a04838dcc",
   "metadata": {},
   "outputs": [],
   "source": [
    "# 23, 80, 99, 66, 87, 31, 61, 21, 54, 76, 78, 17, 14, 26, 100, 34, 1, 70, 5,\n",
    "#31, 51, 39, 47, 81, 69, 45, 40, 8, 44, 60, 77, 93, 22, 91, 4, 37, 87, 34, 98,\n",
    "#29, 7, 63, 11, 91, 86, 20, 33, 90, 72, 61\n",
    "#espuesta\n",
    "edades_pueblito = [ 23, 80, 99, 66, 87, 31, 61, 21, 54, 76, 78, 17, 14, 26, 100, 34, 1, 70, 5, 31, 51, 39, 47, 81, 69, 45, 40, 8, 44, 60, 77, 93, 22, 91, 4, 37, 87, 34, 98, 29, 7, 63, 11, 91, 86, 20, 33, 90, 72, 61 ] "
   ]
  },
  {
   "cell_type": "markdown",
   "id": "b4d47a26-4561-48fc-a7e8-df275c26e758",
   "metadata": {},
   "source": [
    "2. Importa la librería de numpy con su apodo, y luego convierte  la lista edades_pueblito en un arreglo"
   ]
  },
  {
   "cell_type": "code",
   "execution_count": 2,
   "id": "02009718-9950-4324-aca5-a448727ed50b",
   "metadata": {},
   "outputs": [
    {
     "ename": "NameError",
     "evalue": "name 'edades_pueblito' is not defined",
     "output_type": "error",
     "traceback": [
      "\u001b[1;31m---------------------------------------------------------------------------\u001b[0m",
      "\u001b[1;31mNameError\u001b[0m                                 Traceback (most recent call last)",
      "Cell \u001b[1;32mIn[2], line 4\u001b[0m\n\u001b[0;32m      1\u001b[0m \u001b[39m#respuesta\u001b[39;00m\n\u001b[0;32m      2\u001b[0m \u001b[39mimport\u001b[39;00m \u001b[39mnumpy\u001b[39;00m \u001b[39mas\u001b[39;00m \u001b[39mnp\u001b[39;00m\n\u001b[1;32m----> 4\u001b[0m np\u001b[39m.\u001b[39marray(edades_pueblito)\n",
      "\u001b[1;31mNameError\u001b[0m: name 'edades_pueblito' is not defined"
     ]
    }
   ],
   "source": [
    "#respuesta\n",
    "import numpy as np\n",
    "\n",
    "np.array(edades_pueblito)"
   ]
  },
  {
   "cell_type": "markdown",
   "id": "7ed73508-1db7-4567-ae2f-81bbab9345f3",
   "metadata": {},
   "source": [
    "3. Calcula la media, la varianza, y la desviación estándar de la edad de los habitantes de San Andres, muestra un texto (print) con los cálculos realizados"
   ]
  },
  {
   "cell_type": "code",
   "execution_count": 6,
   "id": "ce1b283c-3f4a-4dbb-9633-099bbf4668c6",
   "metadata": {},
   "outputs": [
    {
     "name": "stdout",
     "output_type": "stream",
     "text": [
      "La media de los habitantes de San Andres es de 51.28\n",
      "La varianza es de 887.2416000000001\n",
      "La desviación estándar es de 29.78660101455015\n"
     ]
    }
   ],
   "source": [
    "#respuesta\n",
    "media = np.mean(edades_pueblito)\n",
    "varianza = np.var(edades_pueblito)\n",
    "desviacion = np.std(edades_pueblito)\n",
    "\n",
    "print(f'La media de los habitantes de San Andres es de {media}')\n",
    "print(f'La varianza es de {varianza}')\n",
    "print(f'La desviación estándar es de {desviacion}')\n"
   ]
  },
  {
   "cell_type": "markdown",
   "id": "ca0149e9-ab8e-4708-b17b-27c791392d1a",
   "metadata": {},
   "source": [
    "4. Sin utilizar la formula de la media de numpy, es decir, sin utilizar np.mean(), como podriamos  calcular la media utlizando solo las funciones que hemos visto en clase."
   ]
  },
  {
   "cell_type": "code",
   "execution_count": 8,
   "id": "4413f41b-5a50-440c-ac59-743d8f366842",
   "metadata": {},
   "outputs": [
    {
     "name": "stdout",
     "output_type": "stream",
     "text": [
      "51.28\n"
     ]
    }
   ],
   "source": [
    "#respuesta\n",
    "suma = np.sum(edades_pueblito)\n",
    "promedio = np.divide(suma,50)\n",
    "\n",
    "print (promedio)"
   ]
  },
  {
   "cell_type": "markdown",
   "id": "60047a79-fe4d-4967-8e71-304edce9b249",
   "metadata": {},
   "source": [
    "5. Selecciona una muestra de las edades de las primeras 20 personas del pueblo de San Andres, guardalo en un objeto llamado muestra_pueblito"
   ]
  },
  {
   "cell_type": "code",
   "execution_count": 11,
   "id": "f8dca0bc-4880-4463-a729-67503de9b140",
   "metadata": {},
   "outputs": [
    {
     "name": "stdout",
     "output_type": "stream",
     "text": [
      "[23, 80, 99, 66, 87, 31, 61, 21, 54, 76, 78, 17, 14, 26, 100, 34, 1, 70, 5, 31]\n"
     ]
    }
   ],
   "source": [
    "#respuesta\n",
    "muestra_pueblito = edades_pueblito [0:20]\n",
    "print (muestra_pueblito)"
   ]
  },
  {
   "cell_type": "markdown",
   "id": "6c2f598f-d727-4437-b060-5d7052544652",
   "metadata": {},
   "source": [
    "6. Calcula la media, la varianza y la desviación estándar de la muestra de las edades del pueblo de San Andres, muestra un texto (print) con los calculos realizados "
   ]
  },
  {
   "cell_type": "code",
   "execution_count": 13,
   "id": "eceb2269-e3cb-43d4-9206-f2b21f5cd48b",
   "metadata": {},
   "outputs": [
    {
     "name": "stdout",
     "output_type": "stream",
     "text": [
      "La media de la muestra de los habitantes de San Andres es de 48.7\n",
      "La varianza es de 1017.0631578947367\n",
      "La desviación estándar es de 31.891427655323564\n"
     ]
    }
   ],
   "source": [
    "#respuesta\n",
    "media = np.mean(muestra_pueblito)\n",
    "varianza = np.var(muestra_pueblito, ddof=1)\n",
    "desviacion = np.std(muestra_pueblito, ddof=1)\n",
    "\n",
    "print(f'La media de la muestra de los habitantes de San Andres es de {media}')\n",
    "print(f'La varianza es de {varianza}')\n",
    "print(f'La desviación estándar es de {desviacion}')"
   ]
  },
  {
   "cell_type": "markdown",
   "id": "e702d284-b04b-4f89-8e01-bb56635c703c",
   "metadata": {},
   "source": [
    "7. Sabemos que en San Andres se dedican a la producción de huevo de gallina. Existen 20 productores de huevo en San Andres, donde en promedio cada uno produce 5.6785 kg de huevo por día. ¿cuál es la producción de huevo en kg por mes en San Andres?\n",
    "\n",
    "Resuelve utilizando np.prod()"
   ]
  },
  {
   "cell_type": "code",
   "execution_count": 3,
   "id": "d7cc2869-27f8-4687-933c-d4975b445f44",
   "metadata": {},
   "outputs": [
    {
     "name": "stdout",
     "output_type": "stream",
     "text": [
      "3407.1\n"
     ]
    }
   ],
   "source": [
    "#respuesta\n",
    "\n",
    "produccion_1 = np.array([5.6785, 20, 30])\n",
    "produccion_1 = np.prod(produccion_1)\n",
    "\n",
    "print (produccion_1)"
   ]
  },
  {
   "cell_type": "markdown",
   "id": "3cdf63ac-abd1-4c6f-a379-b0b22b2a3d34",
   "metadata": {},
   "source": [
    "8. Resuelve el ejercicio 7 sin usar np.prod(). Resuelva  utilizando tres objetos: \"productores\" que contenga el número de productores, \"huevos_promedio_x_dia\" que contenga la producción promedio de kg de huevo al día por productor y \"días del mes\" que contega el número de días  en un mes"
   ]
  },
  {
   "cell_type": "code",
   "execution_count": 17,
   "id": "7e879332-66e1-44e2-9163-3a37b06ac78b",
   "metadata": {},
   "outputs": [
    {
     "name": "stdout",
     "output_type": "stream",
     "text": [
      "3407.1\n"
     ]
    }
   ],
   "source": [
    "#respuesta\n",
    "productores = 20\n",
    "huevos_promedio_x_dia = 5.6785\n",
    "dias_del_mes = 30\n",
    "produccion = productores * huevos_promedio_x_dia * dias_del_mes\n",
    "print (produccion)"
   ]
  }
 ],
 "metadata": {
  "kernelspec": {
   "display_name": "Python 3 (ipykernel)",
   "language": "python",
   "name": "python3"
  },
  "language_info": {
   "codemirror_mode": {
    "name": "ipython",
    "version": 3
   },
   "file_extension": ".py",
   "mimetype": "text/x-python",
   "name": "python",
   "nbconvert_exporter": "python",
   "pygments_lexer": "ipython3",
   "version": "3.11.4"
  }
 },
 "nbformat": 4,
 "nbformat_minor": 5
}
